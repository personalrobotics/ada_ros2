{
 "cells": [
  {
   "cell_type": "code",
   "execution_count": 1,
   "id": "b2d57021-6d3f-47da-aca1-58f9b8daee77",
   "metadata": {},
   "outputs": [],
   "source": [
    "import copy\n",
    "import os\n",
    "import subprocess\n",
    "import time\n",
    "import tempfile\n",
    "import sys\n",
    "\n",
    "from pathlib import Path\n",
    "from numpy.linalg import inv, norm, pinv, svd,eig\n",
    "from scipy.optimize import fmin_bfgs, fmin_slsqp, minimize\n",
    "from pinocchio.visualize import MeshcatVisualizer\n",
    "\n",
    "import matplotlib.pyplot as plt\n",
    "import matplotlib as mpl\n",
    "import numpy as np\n",
    "import pinocchio as pin"
   ]
  },
  {
   "cell_type": "code",
   "execution_count": 2,
   "id": "b4c17e17-9c7e-4f42-a495-af93a80a2a5b",
   "metadata": {},
   "outputs": [
    {
     "name": "stdout",
     "output_type": "stream",
     "text": [
      "Nb joints = 4 (nq=10,nv=8)\n",
      "  Joint 0 universe: parent=0\n",
      "  Joint 1 root_joint: parent=0\n",
      "  Joint 2 pitch_joint: parent=1\n",
      "  Joint 3 roll_joint: parent=2\n",
      "\n",
      "[0, 0, 7, 8]\n",
      "[0, 0, 6, 7]\n"
     ]
    }
   ],
   "source": [
    "urdf_file_path = Path(\"/home/regulus/ros2_ws/src/ada_ros2/scripts/articulated_fork.urdf\")\n",
    "model, collision_model, visual_model = pin.buildModelsFromUrdf(str(urdf_file_path), None, pin.JointModelFreeFlyer())\n",
    "data = model.createData()\n",
    "end_effector_joint_id = model.getJointId(\"roll_joint\")\n",
    "end_effector_frame_id = model.getFrameId(\"end_effector_joint\")\n",
    "viz = MeshcatVisualizer(model, collision_model, visual_model)\n",
    "print(model)\n",
    "print(list(model.idx_qs))\n",
    "print(list(model.idx_vs))"
   ]
  },
  {
   "cell_type": "code",
   "execution_count": 3,
   "id": "e649aa3d-78ec-4ca3-96a2-b8e211aaaac5",
   "metadata": {},
   "outputs": [],
   "source": [
    "def config_to_q(config):\n",
    "    return np.array([\n",
    "        0, # Base offset x\n",
    "        0, # Base offset y\n",
    "        0, # Base offset z\n",
    "        0, # scaling\n",
    "        0, # scaling\n",
    "        0, # scaling\n",
    "        1, # Default\n",
    "        config[0], # pitch_joint\n",
    "        np.cos(config[1]), # roll_joint (cos)\n",
    "        np.sin(config[1]), # roll_joint (sin)\n",
    "    ])\n",
    "\n",
    "def angle_mag_to_wrench(theta, phi, magnitude):\n",
    "    # Convert polar and azimuthal angles to Cartesian coordinates\n",
    "    x = magnitude * np.sin(theta) * np.cos(phi)\n",
    "    y = magnitude * np.sin(theta) * np.sin(phi)\n",
    "    z = magnitude * np.cos(theta)\n",
    "\n",
    "    # Create the wrench vector\n",
    "    F = np.array([0, 0, 0, x, y, z])\n",
    "\n",
    "    return F\n",
    "\n",
    "def jacobian_from_config(q1, q2, L1, L2):\n",
    "    return np.array([\n",
    "        [1, 0],\n",
    "        [0, np.cos(q1)],\n",
    "        [0, np.sin(q1)],\n",
    "        [0, np.cos(q1)*(L1 + L2*np.cos(q1))],\n",
    "        [np.cos(q1), 0],\n",
    "        [np.sin(q1), 0],\n",
    "    ])"
   ]
  },
  {
   "cell_type": "code",
   "execution_count": 4,
   "id": "e740d416-8584-4ce2-9ec5-4a0ae4967347",
   "metadata": {},
   "outputs": [
    {
     "name": "stdout",
     "output_type": "stream",
     "text": [
      "You can open the visualizer by visiting the following URL:\n",
      "http://127.0.0.1:7007/static/\n"
     ]
    }
   ],
   "source": [
    "# Initialize the viewer.\n",
    "try:\n",
    "    viz.initViewer(open=True)\n",
    "except ImportError as error:\n",
    "    print(error)\n",
    "    sys.exit(0)\n",
    "\n",
    "try:\n",
    "    viz.loadViewerModel()\n",
    "except AttributeError as error:\n",
    "    print(error)\n",
    "    sys.exit(0)"
   ]
  },
  {
   "cell_type": "code",
   "execution_count": 12,
   "id": "f6e6e7f3-96a5-482e-8cec-75e38681fb2a",
   "metadata": {},
   "outputs": [
    {
     "name": "stdout",
     "output_type": "stream",
     "text": [
      "[  0. -75.]\n",
      "[ 0.    -1.725]\n"
     ]
    }
   ],
   "source": [
    "q1 = 0\n",
    "q2 = 0\n",
    "L1 = 0\n",
    "L2 = 0.023\n",
    "theta = np.pi/2\n",
    "phi = 0\n",
    "\n",
    "q = config_to_q([q1, q2])\n",
    "F = -1 * angle_mag_to_wrench(theta, phi, 75)\n",
    "viz.display(q)\n",
    "pin.forwardKinematics(model, data, q)\n",
    "\n",
    "# J_num = pin.computeJointJacobian(model, data, q, end_effector_joint_id)[:, 6:]\n",
    "J_num = pin.computeFrameJacobian(model, data, q, end_effector_frame_id)[:, 6:]\n",
    "J_an = jacobian_from_config(q1, q2, L1, L2)\n",
    "tau_num = J_num.T @ F\n",
    "tau_an = J_an.T @ F\n",
    "\n",
    "print(tau_num)\n",
    "print(tau_an)"
   ]
  },
  {
   "cell_type": "code",
   "execution_count": null,
   "id": "ef67c15c-84af-43b0-b6ed-29aa2ebcd9ec",
   "metadata": {},
   "outputs": [],
   "source": []
  }
 ],
 "metadata": {
  "kernelspec": {
   "display_name": "ada",
   "language": "python",
   "name": "ada"
  },
  "language_info": {
   "codemirror_mode": {
    "name": "ipython",
    "version": 3
   },
   "file_extension": ".py",
   "mimetype": "text/x-python",
   "name": "python",
   "nbconvert_exporter": "python",
   "pygments_lexer": "ipython3",
   "version": "3.10.12"
  }
 },
 "nbformat": 4,
 "nbformat_minor": 5
}
