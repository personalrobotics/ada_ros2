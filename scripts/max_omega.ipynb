{
 "cells": [
  {
   "cell_type": "code",
   "execution_count": 1,
   "id": "4737e678-9ec3-4daa-a346-dab8f28f7df9",
   "metadata": {
    "scrolled": true
   },
   "outputs": [],
   "source": [
    "import copy\n",
    "import os\n",
    "import subprocess\n",
    "import time\n",
    "import tempfile\n",
    "import sys\n",
    "\n",
    "from pathlib import Path\n",
    "from numpy.linalg import inv, norm, pinv, svd,eig\n",
    "from scipy.optimize import fmin_bfgs, fmin_slsqp, minimize\n",
    "from yourdfpy import URDF\n",
    "from pinocchio.visualize import MeshcatVisualizer\n",
    "\n",
    "import matplotlib.pyplot as plt\n",
    "import matplotlib as mpl\n",
    "import numpy as np\n",
    "import pinocchio as pin"
   ]
  },
  {
   "cell_type": "code",
   "execution_count": 2,
   "id": "34f4397c-d34e-4145-9731-965815fa6855",
   "metadata": {},
   "outputs": [],
   "source": [
    "# Define joint limits\n",
    "joint_to_limits = {\n",
    "    \"robot_tilt\": [-np.pi/2, np.pi/2],\n",
    "    \"j2n6s200_joint_1\": [-np.pi, np.pi],\n",
    "    \"j2n6s200_joint_2\": [-np.pi, np.pi],\n",
    "    \"j2n6s200_joint_3\": [-np.pi, np.pi],\n",
    "    \"j2n6s200_joint_4\": [-np.pi, np.pi],\n",
    "    \"j2n6s200_joint_5\": [-np.pi, np.pi],\n",
    "    \"j2n6s200_joint_6\": [-np.pi, np.pi],\n",
    "    \"j2n6s200_joint_finger_1\": [0, 0],\n",
    "    \"j2n6s200_joint_finger_2\": [0, 0],\n",
    "}\n",
    "\n",
    "# Define joint velocity limits from https://github.com/personalrobotics/ada_ros2/blob/1ca71e2b5a7ffaff43dcb5a6fe90114c8d5ac335/ada_moveit/config/joint_limits.yaml\n",
    "joint_velocity_limits = np.array([\n",
    "    0.0,\n",
    "    0.0,\n",
    "    0.0,\n",
    "    0.0,\n",
    "    0.0,\n",
    "    0.0,\n",
    "    0.15, # robot_tilt\n",
    "    0.62831853071795862, # j2n6s200_joint_1\n",
    "    0.62831853071795862, # j2n6s200_joint_2\n",
    "    0.62831853071795862, # j2n6s200_joint_3\n",
    "    0.83775804095727813, # j2n6s200_joint_4\n",
    "    0.83775804095727813, # j2n6s200_joint_5\n",
    "    0.83775804095727813, # j2n6s200_joint_6\n",
    "    1.0, # j2n6s200_joint_finger_1\n",
    "    1.0, # j2n6s200_joint_finger_2\n",
    "])"
   ]
  },
  {
   "cell_type": "code",
   "execution_count": 3,
   "id": "5732d1f6-46c1-44d2-9aa8-448c96cdfd92",
   "metadata": {},
   "outputs": [
    {
     "name": "stdout",
     "output_type": "stream",
     "text": [
      "262144\n"
     ]
    }
   ],
   "source": [
    "# Sample joint positions evenly\n",
    "num_samples = 4\n",
    "joint_positions = [np.linspace(limits[0], limits[1], num_samples) for limits in joint_to_limits.values()]\n",
    "\n",
    "# Create a meshgrid of all combinations\n",
    "meshgrid = np.meshgrid(*joint_positions)\n",
    "\n",
    "# Generate the list of configurations to evaluate from the meshgrid\n",
    "configurations = np.array(meshgrid).reshape(meshgrid[0].size, -1)\n",
    "print(len(configurations))"
   ]
  },
  {
   "cell_type": "code",
   "execution_count": 3,
   "id": "457f4cfe-3d5c-47ec-b990-23b80d66a476",
   "metadata": {},
   "outputs": [],
   "source": [
    "def generate_random_joint_positions(joint_to_limits, num_samples):\n",
    "\n",
    "  joint_positions_list = []\n",
    "  for _ in range(num_samples):\n",
    "    joint_positions = np.zeros(len(joint_to_limits))\n",
    "    for i, (joint_name, limits) in enumerate(joint_to_limits.items()):\n",
    "      joint_positions[i] = np.random.uniform(limits[0], limits[1])\n",
    "    joint_positions_list.append(joint_positions)\n",
    "  return joint_positions_list\n",
    "\n",
    "num_samples = 10000\n",
    "rand_configurations = generate_random_joint_positions(joint_to_limits, num_samples)"
   ]
  },
  {
   "cell_type": "code",
   "execution_count": 4,
   "id": "9715b527-76e9-43d1-a860-a03ec1ad6875",
   "metadata": {},
   "outputs": [],
   "source": [
    "# URDF file (pathlib is a little nicer but not mandatory)\n",
    "urdf_file_path = Path(\"/home/regulus/ros2_ws/ada_no_forque.urdf\")\n",
    "mesh_dir = \"/home/regulus/ros2_ws/src/ada_ros2/ada_description/meshes/\"\n",
    "ros_url_prefix = \"package://\"\n",
    "abs_path_prefix = \"/home/regulus/ros2_ws/src/ada_ros2/\"\n",
    "\n",
    "with tempfile.TemporaryDirectory() as tmpdirname:\n",
    "    tmp_file_path = Path(tmpdirname)/urdf_file_path.name\n",
    "\n",
    "    with open(urdf_file_path, 'r') as fin:\n",
    "        with open(tmp_file_path, 'w') as fout:\n",
    "            for line in fin:\n",
    "                fout.write(line.replace(ros_url_prefix, abs_path_prefix))\n",
    "\n",
    "    # model_yourdf = URDF.load(tmp_file_path, load_meshes=True)\n",
    "    # model_pin = pin.buildModelFromUrdf(str(tmp_file_path))\n",
    "    model, collision_model, visual_model = pin.buildModelsFromUrdf(str(tmp_file_path), mesh_dir, pin.JointModelFreeFlyer())"
   ]
  },
  {
   "cell_type": "code",
   "execution_count": 5,
   "id": "d11a5b5b-0eb0-463c-b72b-b037bf73683f",
   "metadata": {},
   "outputs": [],
   "source": [
    "data = model.createData()\n",
    "end_effector_joint_id = model.getJointId(\"j2n6s200_joint_6\")"
   ]
  },
  {
   "cell_type": "code",
   "execution_count": 6,
   "id": "1adb3eaf-0f1d-4620-82a7-7f900fa9685a",
   "metadata": {},
   "outputs": [
    {
     "name": "stdout",
     "output_type": "stream",
     "text": [
      "You can open the visualizer by visiting the following URL:\n",
      "http://127.0.0.1:7001/static/\n"
     ]
    }
   ],
   "source": [
    "viz = MeshcatVisualizer(model, collision_model, visual_model)\n",
    "\n",
    "# Initialize the viewer.\n",
    "try:\n",
    "    viz.initViewer(open=True)\n",
    "except ImportError as error:\n",
    "    print(error)\n",
    "    sys.exit(0)\n",
    "\n",
    "try:\n",
    "    viz.loadViewerModel()\n",
    "except AttributeError as error:\n",
    "    print(error)\n",
    "    sys.exit(0)"
   ]
  },
  {
   "cell_type": "code",
   "execution_count": 7,
   "id": "802193ac-db16-4d41-bdc0-15836998dd2f",
   "metadata": {},
   "outputs": [],
   "source": [
    "def config_to_q(config):\n",
    "    return np.array([\n",
    "        0, # Base offset x\n",
    "        0, # Base offset y\n",
    "        0, # Base offset z\n",
    "        0, # scaling\n",
    "        0, # scaling\n",
    "        0, # scaling\n",
    "        1, # Default\n",
    "        config[0], # robot_tilt\n",
    "        np.cos(config[1]), # j2n6s200_joint_1 (cos)\n",
    "        np.sin(config[1]), # j2n6s200_joint_1 (sin)\n",
    "        config[2], # j2n6s200_joint_2\n",
    "        config[3], # j2n6s200_joint_3\n",
    "        np.cos(config[4]), # j2n6s200_joint_4 (cos)\n",
    "        np.sin(config[4]), # j2n6s200_joint_4 (sin)\n",
    "        np.cos(config[5]), # j2n6s200_joint_5 (cos)\n",
    "        np.sin(config[5]), # j2n6s200_joint_5 (sin)\n",
    "        np.cos(config[6]), # j2n6s200_joint_6 (cos)\n",
    "        np.sin(config[6]), # j2n6s200_joint_6 (sin)\n",
    "        config[7], # j2n6s200_joint_finger_1\n",
    "        config[8], # j2n6s200_joint_finger_2\n",
    "    ])"
   ]
  },
  {
   "cell_type": "code",
   "execution_count": 8,
   "id": "22e7a9e8-1503-4582-b216-407127b83c3e",
   "metadata": {},
   "outputs": [],
   "source": [
    "from multiprocessing.sharedctypes import Value\n",
    "\n",
    "# Create a shared counter\n",
    "counter = Value('i', 0)\n",
    "def calculate_max_omega(config, index):\n",
    "    q = config_to_q(config)\n",
    "    \n",
    "    # Compute Jacobian for current configuration\n",
    "    pin.forwardKinematics(model, data, q)\n",
    "    J = pin.computeJointJacobian(model, data, q, end_effector_joint_id)\n",
    "\n",
    "    # Define the objective function\n",
    "    def objective(q_dot):\n",
    "        omega = J[:3, :] @ q_dot\n",
    "        return -np.linalg.norm(omega)\n",
    "    \n",
    "    # Define the constraints\n",
    "    constraints = ({'type': 'ineq', 'fun': lambda x: joint_velocity_limits - x},\n",
    "                   {'type': 'ineq', 'fun': lambda x: x + joint_velocity_limits})\n",
    "    \n",
    "    # Initial guess for joint velocities\n",
    "    q_dot_init = np.zeros(model.nv)\n",
    "\n",
    "    # Solve the optimization problem\n",
    "    result = minimize(objective, q_dot_init, method='SLSQP', constraints=constraints)\n",
    "\n",
    "    # Optimal joint velocities\n",
    "    optimal_q_dot = result.x\n",
    "\n",
    "    # Calculate the maximum angular velocity\n",
    "    max_omega = np.linalg.norm(J[:3, :] @ optimal_q_dot)\n",
    "\n",
    "    # Update the shared counter\n",
    "    with counter.get_lock():\n",
    "        counter.value += 1\n",
    "        print(f\"\\rCompleted configuration {counter.value}/{len(rand_configurations)}\", end=\"\")\n",
    "\n",
    "    return max_omega, config"
   ]
  },
  {
   "cell_type": "code",
   "execution_count": 9,
   "id": "d7508b0c-f63f-45b1-958e-a16049bf8705",
   "metadata": {},
   "outputs": [
    {
     "name": "stdout",
     "output_type": "stream",
     "text": [
      "Completed configuration 10000/10000"
     ]
    }
   ],
   "source": [
    "from joblib import Parallel, delayed\n",
    "\n",
    "# Parallelize the loop over configurations\n",
    "with Parallel(n_jobs=-1, backend=\"threading\") as parallel:\n",
    "    max_angular_velocities_with_configs = parallel(delayed(calculate_max_omega)(config, i) for i, config in enumerate(rand_configurations))\n"
   ]
  },
  {
   "cell_type": "code",
   "execution_count": 10,
   "id": "d0bce41c-5e8a-45a4-b4db-47270844be65",
   "metadata": {},
   "outputs": [
    {
     "name": "stdout",
     "output_type": "stream",
     "text": [
      "\n",
      "Maximum angular velocity across all configurations: 1.0192929711753709\n",
      "Associated configuration: [-0.80370985  1.36499043 -1.55476502  3.08961834  0.62685185  0.03867948\n",
      " -2.90832305  0.          0.        ]\n"
     ]
    }
   ],
   "source": [
    "# Find the maximum angular velocity across all configurations\n",
    "max_angular_velocity_across_configs = max(max_angular_velocities_with_configs, key=lambda x: x[0])\n",
    "print(\"\\nMaximum angular velocity across all configurations:\", max_angular_velocity_across_configs[0])\n",
    "print(\"Associated configuration:\", max_angular_velocity_across_configs[1])\n",
    "\n",
    "viz.display(config_to_q(max_angular_velocity_across_configs[1]))"
   ]
  },
  {
   "cell_type": "code",
   "execution_count": 11,
   "id": "854daca2-ad34-44d6-b2bd-c260f7541fd8",
   "metadata": {},
   "outputs": [
    {
     "name": "stdout",
     "output_type": "stream",
     "text": [
      "1.0192929711753709 [-0.80370985  1.36499043 -1.55476502  3.08961834  0.62685185  0.03867948\n",
      " -2.90832305  0.          0.        ]\n",
      "1.016898247881716 [-0.28495619  1.45900989 -1.62240234  3.08570465  0.49115408  0.06782838\n",
      "  2.64014497  0.          0.        ]\n",
      "1.0157374262283019 [ 0.95427931  1.38821953 -1.69985215 -2.88787428 -3.05571498  0.29268948\n",
      " -2.04820176  0.          0.        ]\n",
      "1.0130413150518165 [ 1.01303892  2.28162822  1.78589824 -2.86184983 -0.72161024  0.17336442\n",
      " -0.10362112  0.          0.        ]\n",
      "1.0124407829711541 [ 0.23805069  0.89801254 -1.82426603 -2.65623004 -2.67111948 -0.54620803\n",
      "  0.13459491  0.          0.        ]\n",
      "1.0089373092831284 [-1.11359525 -0.95953577  2.15865704  3.01426446  3.00108285 -0.4743856\n",
      " -1.64949196  0.          0.        ]\n",
      "1.0016413772413555 [ 0.14458591  2.21091932  1.97249778 -3.07143407 -0.29472484  0.05528398\n",
      "  1.38811563  0.          0.        ]\n",
      "1.0008250436863941 [-0.94132331  1.58949663 -1.61540061 -2.6423697  -2.6933303   0.58325303\n",
      " -2.63546601  0.          0.        ]\n",
      "1.0006235215429402 [ 0.95896883  2.21887119  2.06036169 -2.88023131 -3.12759772 -0.30378404\n",
      "  0.13401987  0.          0.        ]\n",
      "0.9969971445720955 [ 0.19553476 -1.32205305 -1.51438862 -2.89448729  3.08862273  0.05400457\n",
      "  0.4952345   0.          0.        ]\n",
      "0.9961945845415666 [ 0.29867632 -1.62854359  1.51955546  2.46014049  2.4461593  -0.18846361\n",
      " -0.0717292   0.          0.        ]\n",
      "0.9950335818189717 [ 0.28215612 -1.554883   -1.23658732 -2.90638012  0.66336905  0.27903274\n",
      "  2.8690941   0.          0.        ]\n",
      "0.994373929726842 [-1.22201958  1.6962512   1.5736433   2.95522241  3.05241368  0.97539864\n",
      " -2.99150176  0.          0.        ]\n",
      "0.9915774430061318 [-0.48273076 -2.53859361 -1.97386108  3.13306374 -2.29269511 -0.63685607\n",
      " -0.39914225  0.          0.        ]\n",
      "0.990664905228181 [-0.30726911 -2.07615393 -2.61661347  2.82878939 -2.6710864   0.09836402\n",
      " -0.92331173  0.          0.        ]\n",
      "0.9900973089319124 [-0.32428519  0.96469051 -1.76736148 -2.41005316 -2.25452663  0.19972571\n",
      " -1.15134592  0.          0.        ]\n",
      "0.9892695870128607 [ 0.24735654 -2.50326216 -1.5018042  -2.89938934  0.56047093  0.07664569\n",
      "  2.67840199  0.          0.        ]\n",
      "0.9886491638055708 [-0.63287228 -1.24079844  1.98366921 -2.60761382 -1.38930815  0.0477864\n",
      " -0.55019361  0.          0.        ]\n",
      "0.9872880079739538 [ 1.19313107  0.92682256 -1.61225695 -2.68860779 -1.7107299  -0.31287059\n",
      " -1.43569208  0.          0.        ]\n",
      "0.9866870022511867 [-0.92691107  1.54570318 -1.90589085 -2.99347475  2.86911185 -1.57378422\n",
      " -1.71302864  0.          0.        ]\n"
     ]
    }
   ],
   "source": [
    "for max_omega, config in sorted(max_angular_velocities_with_configs, reverse=True)[:20]:\n",
    "    print(max_omega, config)"
   ]
  },
  {
   "cell_type": "code",
   "execution_count": null,
   "id": "91f519cd-7fdd-46b2-9f5d-afaa2eb5e326",
   "metadata": {},
   "outputs": [],
   "source": []
  }
 ],
 "metadata": {
  "kernelspec": {
   "display_name": "ada",
   "language": "python",
   "name": "ada"
  },
  "language_info": {
   "codemirror_mode": {
    "name": "ipython",
    "version": 3
   },
   "file_extension": ".py",
   "mimetype": "text/x-python",
   "name": "python",
   "nbconvert_exporter": "python",
   "pygments_lexer": "ipython3",
   "version": "3.10.12"
  }
 },
 "nbformat": 4,
 "nbformat_minor": 5
}
