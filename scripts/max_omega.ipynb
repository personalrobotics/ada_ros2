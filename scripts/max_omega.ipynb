{
 "cells": [
  {
   "cell_type": "code",
   "execution_count": 1,
   "id": "4737e678-9ec3-4daa-a346-dab8f28f7df9",
   "metadata": {
    "scrolled": true
   },
   "outputs": [],
   "source": [
    "import copy\n",
    "import os\n",
    "import subprocess\n",
    "import time\n",
    "import tempfile\n",
    "import sys\n",
    "\n",
    "from pathlib import Path\n",
    "from numpy.linalg import inv, norm, pinv, svd,eig\n",
    "from scipy.optimize import fmin_bfgs, fmin_slsqp, minimize\n",
    "from yourdfpy import URDF\n",
    "from pinocchio.visualize import MeshcatVisualizer\n",
    "\n",
    "import matplotlib.pyplot as plt\n",
    "import matplotlib as mpl\n",
    "import numpy as np\n",
    "import pinocchio as pin"
   ]
  },
  {
   "cell_type": "markdown",
   "id": "5d61feec-637c-4786-91c6-390f8901b4af",
   "metadata": {},
   "source": [
    "# Joint Limits\n",
    "Define the joint configuration (rad) and velocity (rad/s) limits for the Kinova Gen 2 arm"
   ]
  },
  {
   "cell_type": "code",
   "execution_count": 2,
   "id": "34f4397c-d34e-4145-9731-965815fa6855",
   "metadata": {},
   "outputs": [],
   "source": [
    "# Define joint limits\n",
    "joint_to_limits = {\n",
    "    \"robot_tilt\": [-np.pi/2, np.pi/2],\n",
    "    \"j2n6s200_joint_1\": [-np.pi, np.pi],\n",
    "    \"j2n6s200_joint_2\": [-np.pi, np.pi],\n",
    "    \"j2n6s200_joint_3\": [-np.pi, np.pi],\n",
    "    \"j2n6s200_joint_4\": [-np.pi, np.pi],\n",
    "    \"j2n6s200_joint_5\": [-np.pi, np.pi],\n",
    "    \"j2n6s200_joint_6\": [-np.pi, np.pi],\n",
    "    \"j2n6s200_joint_finger_1\": [0, 0],\n",
    "    \"j2n6s200_joint_finger_2\": [0, 0],\n",
    "}\n",
    "\n",
    "# Define joint velocity limits from https://github.com/personalrobotics/ada_ros2/blob/1ca71e2b5a7ffaff43dcb5a6fe90114c8d5ac335/ada_moveit/config/joint_limits.yaml\n",
    "joint_velocity_limits = np.array([\n",
    "    0.0,\n",
    "    0.0,\n",
    "    0.0,\n",
    "    0.0,\n",
    "    0.0,\n",
    "    0.0,\n",
    "    0.15, # robot_tilt\n",
    "    0.62831853071795862, # j2n6s200_joint_1\n",
    "    0.62831853071795862, # j2n6s200_joint_2\n",
    "    0.62831853071795862, # j2n6s200_joint_3\n",
    "    0.83775804095727813, # j2n6s200_joint_4\n",
    "    0.83775804095727813, # j2n6s200_joint_5\n",
    "    0.83775804095727813, # j2n6s200_joint_6\n",
    "    1.0, # j2n6s200_joint_finger_1\n",
    "    1.0, # j2n6s200_joint_finger_2\n",
    "])"
   ]
  },
  {
   "cell_type": "markdown",
   "id": "1da2255b-d3d8-4041-8d01-6498b681b49f",
   "metadata": {},
   "source": [
    "# Sample configurations\n",
    "Sample joint configurations by either sampling `num_samples` evenly for each joint within their joint configuration limits, or sampling randomly from a uniform distribution"
   ]
  },
  {
   "cell_type": "code",
   "execution_count": 3,
   "id": "5732d1f6-46c1-44d2-9aa8-448c96cdfd92",
   "metadata": {},
   "outputs": [
    {
     "name": "stdout",
     "output_type": "stream",
     "text": [
      "262144\n"
     ]
    }
   ],
   "source": [
    "# Sample joint positions evenly\n",
    "num_samples = 4\n",
    "joint_positions = [np.linspace(limits[0], limits[1], num_samples) for limits in joint_to_limits.values()]\n",
    "\n",
    "# Create a meshgrid of all combinations\n",
    "meshgrid = np.meshgrid(*joint_positions)\n",
    "\n",
    "# Generate the list of configurations to evaluate from the meshgrid\n",
    "configurations = np.array(meshgrid).reshape(meshgrid[0].size, -1)\n",
    "print(len(configurations))"
   ]
  },
  {
   "cell_type": "code",
   "execution_count": 3,
   "id": "457f4cfe-3d5c-47ec-b990-23b80d66a476",
   "metadata": {},
   "outputs": [],
   "source": [
    "def generate_random_joint_positions(joint_to_limits, num_samples):\n",
    "\n",
    "  joint_positions_list = []\n",
    "  for _ in range(num_samples):\n",
    "    joint_positions = np.zeros(len(joint_to_limits))\n",
    "    for i, (joint_name, limits) in enumerate(joint_to_limits.items()):\n",
    "      joint_positions[i] = np.random.uniform(limits[0], limits[1])\n",
    "    joint_positions_list.append(joint_positions)\n",
    "  return joint_positions_list\n",
    "\n",
    "num_samples = 10000\n",
    "rand_configurations = generate_random_joint_positions(joint_to_limits, num_samples)"
   ]
  },
  {
   "cell_type": "markdown",
   "id": "311bab8d-8286-46f8-bc43-c3b5f6a66808",
   "metadata": {},
   "source": [
    "# Load URDF model of ADA\n",
    "Build a Pinocchio model using URDF for ADA and initialize a MeshCat visualizer"
   ]
  },
  {
   "cell_type": "code",
   "execution_count": 35,
   "id": "9715b527-76e9-43d1-a860-a03ec1ad6875",
   "metadata": {},
   "outputs": [],
   "source": [
    "cwd = Path(os.getcwd())\n",
    "urdf_file_path = cwd / \"ada_no_forque.urdf\"\n",
    "mesh_dir = cwd.parent / \"ada_description/meshes/\"\n",
    "ros_url_prefix = \"package://\"\n",
    "abs_path_prefix = str(cwd.parent) + \"/\"\n",
    "\n",
    "with tempfile.TemporaryDirectory() as tmpdirname:\n",
    "    tmp_file_path = Path(tmpdirname)/urdf_file_path.name\n",
    "\n",
    "    with open(urdf_file_path, 'r') as fin:\n",
    "        with open(tmp_file_path, 'w') as fout:\n",
    "            for line in fin:\n",
    "                fout.write(line.replace(ros_url_prefix, abs_path_prefix))\n",
    "\n",
    "    model, collision_model, visual_model = pin.buildModelsFromUrdf(str(tmp_file_path), str(mesh_dir), pin.JointModelFreeFlyer())"
   ]
  },
  {
   "cell_type": "code",
   "execution_count": 36,
   "id": "d11a5b5b-0eb0-463c-b72b-b037bf73683f",
   "metadata": {},
   "outputs": [],
   "source": [
    "data = model.createData()\n",
    "end_effector_joint_id = model.getJointId(\"j2n6s200_joint_6\")"
   ]
  },
  {
   "cell_type": "code",
   "execution_count": 37,
   "id": "1adb3eaf-0f1d-4620-82a7-7f900fa9685a",
   "metadata": {},
   "outputs": [
    {
     "name": "stdout",
     "output_type": "stream",
     "text": [
      "You can open the visualizer by visiting the following URL:\n",
      "http://127.0.0.1:7008/static/\n"
     ]
    }
   ],
   "source": [
    "viz = MeshcatVisualizer(model, collision_model, visual_model)\n",
    "\n",
    "# Initialize the viewer.\n",
    "try:\n",
    "    viz.initViewer(open=True)\n",
    "except ImportError as error:\n",
    "    print(error)\n",
    "    sys.exit(0)\n",
    "\n",
    "try:\n",
    "    viz.loadViewerModel()\n",
    "except AttributeError as error:\n",
    "    print(error)\n",
    "    sys.exit(0)"
   ]
  },
  {
   "cell_type": "markdown",
   "id": "999e0002-c040-44d2-9886-1404def33811",
   "metadata": {},
   "source": [
    "# Compute maximum angular velocity\n",
    "For each configuration, we find the optimal joint velocities `q_dot` within the joint velocity limits that maximizes the angular velocity of the end-effector. Across all configurations, we choose the global maximum angular velocity of the end-effector"
   ]
  },
  {
   "cell_type": "code",
   "execution_count": 38,
   "id": "802193ac-db16-4d41-bdc0-15836998dd2f",
   "metadata": {},
   "outputs": [],
   "source": [
    "def config_to_q(config):\n",
    "    return np.array([\n",
    "        0, # Base offset x\n",
    "        0, # Base offset y\n",
    "        0, # Base offset z\n",
    "        0, # scaling\n",
    "        0, # scaling\n",
    "        0, # scaling\n",
    "        1, # Default\n",
    "        config[0], # robot_tilt\n",
    "        np.cos(config[1]), # j2n6s200_joint_1 (cos)\n",
    "        np.sin(config[1]), # j2n6s200_joint_1 (sin)\n",
    "        config[2], # j2n6s200_joint_2\n",
    "        config[3], # j2n6s200_joint_3\n",
    "        np.cos(config[4]), # j2n6s200_joint_4 (cos)\n",
    "        np.sin(config[4]), # j2n6s200_joint_4 (sin)\n",
    "        np.cos(config[5]), # j2n6s200_joint_5 (cos)\n",
    "        np.sin(config[5]), # j2n6s200_joint_5 (sin)\n",
    "        np.cos(config[6]), # j2n6s200_joint_6 (cos)\n",
    "        np.sin(config[6]), # j2n6s200_joint_6 (sin)\n",
    "        config[7], # j2n6s200_joint_finger_1\n",
    "        config[8], # j2n6s200_joint_finger_2\n",
    "    ])"
   ]
  },
  {
   "cell_type": "code",
   "execution_count": 39,
   "id": "22e7a9e8-1503-4582-b216-407127b83c3e",
   "metadata": {},
   "outputs": [],
   "source": [
    "from multiprocessing.sharedctypes import Value\n",
    "\n",
    "# Create a shared counter\n",
    "counter = Value('i', 0)\n",
    "def calculate_max_omega(config, index):\n",
    "    q = config_to_q(config)\n",
    "    \n",
    "    # Compute Jacobian for current configuration\n",
    "    pin.forwardKinematics(model, data, q)\n",
    "    J = pin.computeJointJacobian(model, data, q, end_effector_joint_id)\n",
    "\n",
    "    # Define the objective function\n",
    "    def objective(q_dot):\n",
    "        omega = J[:3, :] @ q_dot\n",
    "        return -np.linalg.norm(omega)\n",
    "    \n",
    "    # Define the constraints\n",
    "    constraints = ({'type': 'ineq', 'fun': lambda x: joint_velocity_limits - x},\n",
    "                   {'type': 'ineq', 'fun': lambda x: x + joint_velocity_limits})\n",
    "    \n",
    "    # Initial guess for joint velocities\n",
    "    q_dot_init = np.zeros(model.nv)\n",
    "\n",
    "    # Solve the optimization problem\n",
    "    result = minimize(objective, q_dot_init, method='SLSQP', constraints=constraints)\n",
    "\n",
    "    # Optimal joint velocities\n",
    "    optimal_q_dot = result.x\n",
    "\n",
    "    # Calculate the maximum angular velocity\n",
    "    max_omega = np.linalg.norm(J[:3, :] @ optimal_q_dot)\n",
    "\n",
    "    # Update the shared counter\n",
    "    with counter.get_lock():\n",
    "        counter.value += 1\n",
    "        print(f\"\\rCompleted configuration {counter.value}/{len(rand_configurations)}\", end=\"\")\n",
    "\n",
    "    return max_omega, config"
   ]
  },
  {
   "cell_type": "code",
   "execution_count": 40,
   "id": "d7508b0c-f63f-45b1-958e-a16049bf8705",
   "metadata": {},
   "outputs": [
    {
     "name": "stdout",
     "output_type": "stream",
     "text": [
      "Completed configuration 10000/10000"
     ]
    }
   ],
   "source": [
    "from joblib import Parallel, delayed\n",
    "\n",
    "# Parallelize the loop over configurations\n",
    "with Parallel(n_jobs=-1, backend=\"threading\") as parallel:\n",
    "    max_angular_velocities_with_configs = parallel(delayed(calculate_max_omega)(config, i) for i, config in enumerate(rand_configurations))\n"
   ]
  },
  {
   "cell_type": "code",
   "execution_count": 41,
   "id": "d0bce41c-5e8a-45a4-b4db-47270844be65",
   "metadata": {},
   "outputs": [
    {
     "name": "stdout",
     "output_type": "stream",
     "text": [
      "\n",
      "Maximum angular velocity across all configurations: 1.0192929711753709\n",
      "Associated configuration: [-0.80370985  1.36499043 -1.55476502  3.08961834  0.62685185  0.03867948\n",
      " -2.90832305  0.          0.        ]\n"
     ]
    }
   ],
   "source": [
    "# Find the maximum angular velocity across all configurations\n",
    "max_angular_velocity_across_configs = max(max_angular_velocities_with_configs, key=lambda x: x[0])\n",
    "print(\"\\nMaximum angular velocity across all configurations:\", max_angular_velocity_across_configs[0])\n",
    "print(\"Associated configuration:\", max_angular_velocity_across_configs[1])\n",
    "\n",
    "viz.display(config_to_q(max_angular_velocity_across_configs[1]))"
   ]
  }
 ],
 "metadata": {
  "kernelspec": {
   "display_name": "ada",
   "language": "python",
   "name": "ada"
  },
  "language_info": {
   "codemirror_mode": {
    "name": "ipython",
    "version": 3
   },
   "file_extension": ".py",
   "mimetype": "text/x-python",
   "name": "python",
   "nbconvert_exporter": "python",
   "pygments_lexer": "ipython3",
   "version": "3.10.12"
  }
 },
 "nbformat": 4,
 "nbformat_minor": 5
}
